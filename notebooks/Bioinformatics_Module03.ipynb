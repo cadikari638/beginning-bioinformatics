{
  "nbformat": 4,
  "nbformat_minor": 0,
  "metadata": {
    "colab": {
      "provenance": [],
      "collapsed_sections": [
        "iHFNxm30lzic",
        "sOgq54Op4MZL",
        "R5_dYi9f6t1z",
        "LdtXZ0LW9ugo",
        "i4Fo-ddSKWwy",
        "iupO8iI-ZYAe",
        "lY924yM0jckW",
        "NvqGEl4JjpiO",
        "DHzE7CI4lWGw",
        "WD5wnvQkmh6E",
        "kApNvgOLn8lp",
        "kq9QbEttnA4h"
      ],
      "include_colab_link": true
    },
    "kernelspec": {
      "name": "python3",
      "display_name": "Python 3"
    },
    "language_info": {
      "name": "python"
    }
  },
  "cells": [
    {
      "cell_type": "markdown",
      "metadata": {
        "id": "view-in-github",
        "colab_type": "text"
      },
      "source": [
        "<a href=\"https://colab.research.google.com/github/cadikari638/beginning-bioinformatics/blob/main/notebooks/Bioinformatics_Module03.ipynb\" target=\"_parent\"><img src=\"https://colab.research.google.com/assets/colab-badge.svg\" alt=\"Open In Colab\"/></a>"
      ]
    },
    {
      "cell_type": "markdown",
      "source": [
        "# **<font color=blue>P1.** </font>Rename this notebook **Bioinformatics_Module03.ipynb </font><br>**"
      ],
      "metadata": {
        "id": "l3h89jAYBUzz"
      }
    },
    {
      "cell_type": "markdown",
      "source": [
        "# **<font color=blue>P2. </font>**```print()```writes to standard output (i.e. prints output to the screen)"
      ],
      "metadata": {
        "id": "jYlnA2Z2FhoW"
      }
    },
    {
      "cell_type": "markdown",
      "source": [
        "####**TASK P2.1:** Print <font color = magenta>hello world</font>"
      ],
      "metadata": {
        "id": "r118fqQodA9x"
      }
    },
    {
      "cell_type": "code",
      "source": [
        "print(\"hello world\")"
      ],
      "metadata": {
        "id": "kvxK8D5uFx_x",
        "colab": {
          "base_uri": "https://localhost:8080/"
        },
        "outputId": "385e5d35-bd28-407e-a101-bbf1f4c290d7"
      },
      "execution_count": null,
      "outputs": [
        {
          "output_type": "stream",
          "name": "stdout",
          "text": [
            "hello world\n"
          ]
        }
      ]
    },
    {
      "cell_type": "markdown",
      "source": [
        "# **<font color=blue>P3. </font>**```=``` is the ASSIGNMENT operator (assigns values to variables)\n",
        "####**TASK P3.1:** Ask Gemini, \"*Give me 3 examples to help practice understanding the assignment operator.*\""
      ],
      "metadata": {
        "id": "qRj8vCvXG-1k"
      }
    },
    {
      "cell_type": "code",
      "source": [
        "x=5\n",
        "x"
      ],
      "metadata": {
        "id": "VB8HPNe7JpuJ",
        "colab": {
          "base_uri": "https://localhost:8080/"
        },
        "outputId": "649b1136-85cf-480f-97fb-395ba86c3181"
      },
      "execution_count": null,
      "outputs": [
        {
          "output_type": "execute_result",
          "data": {
            "text/plain": [
              "5"
            ]
          },
          "metadata": {},
          "execution_count": 2
        }
      ]
    },
    {
      "cell_type": "markdown",
      "source": [
        "# **<font color=blue>P4. </font>** Data types: use ```type()``` to find a variable's \"type\"\n",
        "####**TASK P4.1:** Ask Gemini, \"*Give me examples of each data type to see how they look as outputs.*\""
      ],
      "metadata": {
        "id": "s7deJQCHHwOa"
      }
    },
    {
      "cell_type": "code",
      "source": [
        "type(x)"
      ],
      "metadata": {
        "colab": {
          "base_uri": "https://localhost:8080/"
        },
        "id": "ktR75uWIJ0uc",
        "outputId": "f3265690-e51c-42f3-b100-6848b70a0773"
      },
      "execution_count": null,
      "outputs": [
        {
          "output_type": "execute_result",
          "data": {
            "text/plain": [
              "int"
            ]
          },
          "metadata": {},
          "execution_count": 8
        }
      ]
    },
    {
      "cell_type": "markdown",
      "source": [
        "# **<font color=blue>P5. </font>** Arithmetic and comparison operators\n",
        "####**TASK P5.1:**   Complete Rosalind #1"
      ],
      "metadata": {
        "id": "GtjxkNHWN5Xo"
      }
    },
    {
      "cell_type": "code",
      "source": [
        "y=2+3\n",
        "print(y)\n",
        "x==y"
      ],
      "metadata": {
        "id": "45s9c4vyQm2U",
        "colab": {
          "base_uri": "https://localhost:8080/"
        },
        "outputId": "98c34d74-2b6f-43ec-edc6-5c61ce81b27f"
      },
      "execution_count": null,
      "outputs": [
        {
          "output_type": "stream",
          "name": "stdout",
          "text": [
            "5\n"
          ]
        },
        {
          "output_type": "execute_result",
          "data": {
            "text/plain": [
              "True"
            ]
          },
          "metadata": {},
          "execution_count": 20
        }
      ]
    },
    {
      "cell_type": "code",
      "source": [
        "y=935**2+844**2\n",
        "print(y)\n"
      ],
      "metadata": {
        "colab": {
          "base_uri": "https://localhost:8080/"
        },
        "id": "cDsWjAUaVt0-",
        "outputId": "1cc3fd7a-ccef-491d-cd13-c1f3cd2807dc"
      },
      "execution_count": null,
      "outputs": [
        {
          "output_type": "stream",
          "name": "stdout",
          "text": [
            "1586561\n"
          ]
        }
      ]
    },
    {
      "cell_type": "markdown",
      "source": [
        "# **<font color=blue>P6. </font>** ```input()``` gets input from the user"
      ],
      "metadata": {
        "id": "3yswDberkE7N"
      }
    },
    {
      "cell_type": "markdown",
      "source": [
        "TASK P6.1"
      ],
      "metadata": {
        "id": "z97rSY9gqdad"
      }
    },
    {
      "cell_type": "code",
      "metadata": {
        "colab": {
          "base_uri": "https://localhost:8080/"
        },
        "id": "d91046dd",
        "outputId": "daa9a52d-055e-41eb-a3e0-c5da90ff3028"
      },
      "source": [
        "name = input(\"Enter your name: \")\n",
        "print(\"Hello, \" + name)"
      ],
      "execution_count": null,
      "outputs": [
        {
          "output_type": "stream",
          "name": "stdout",
          "text": [
            "Enter your name: Chethana\n",
            "Hello, Chethana\n"
          ]
        }
      ]
    },
    {
      "cell_type": "markdown",
      "source": [
        "####**TASK P6.1:** Solve Rosalind #1 again, but get user input for the values of a and b rather than modifying the code."
      ],
      "metadata": {
        "id": "e3LaAQeLRmE6"
      }
    },
    {
      "cell_type": "code",
      "source": [
        "a= int(input(\"enter a value for a:\"))\n",
        "b= int(input(\"enter a value for b:\"))\n",
        "c=a**2+b**2\n",
        "print (\"The sq of the hypotenuse is\",c)"
      ],
      "metadata": {
        "id": "wZ0XL0L6Rq2H",
        "colab": {
          "base_uri": "https://localhost:8080/"
        },
        "outputId": "fa6c401e-4798-4532-fff6-52c7395a88bf"
      },
      "execution_count": null,
      "outputs": [
        {
          "output_type": "stream",
          "name": "stdout",
          "text": [
            "enter a value for a:935\n",
            "enter a value for b:844\n",
            "The sq of the hypotenuse is 1586561\n"
          ]
        }
      ]
    },
    {
      "cell_type": "markdown",
      "source": [
        "# **<font color=blue>P7. </font>** ```list``` type variables (create, replace, append)"
      ],
      "metadata": {
        "id": "4IM-9eAGkPdi"
      }
    },
    {
      "cell_type": "markdown",
      "source": [
        "####**TASK P7.1**"
      ],
      "metadata": {
        "id": "DhNGdYK6NEpe"
      }
    },
    {
      "cell_type": "code",
      "source": [
        "# Create a list with 3 elements and then print them\n",
        "\n",
        "my_list = [\"Hello\", \"World\", \"Charles Darwin\"]\n",
        "print (my_list[1])"
      ],
      "metadata": {
        "id": "N3VRRQIEkXuP",
        "colab": {
          "base_uri": "https://localhost:8080/"
        },
        "outputId": "0120b554-e9af-445b-b9de-77b91eccfeab"
      },
      "execution_count": null,
      "outputs": [
        {
          "output_type": "stream",
          "name": "stdout",
          "text": [
            "World\n"
          ]
        }
      ]
    },
    {
      "cell_type": "markdown",
      "source": [
        "####**TASK P7.2**"
      ],
      "metadata": {
        "id": "Yn3bAoi8NKy5"
      }
    },
    {
      "cell_type": "code",
      "source": [
        "# Substitute the item at index 2 in the list\n",
        "my_list[2] = \"Alfred R. Wallace\"\n",
        "print (my_list)"
      ],
      "metadata": {
        "id": "WNnsUuduOKbI",
        "colab": {
          "base_uri": "https://localhost:8080/"
        },
        "outputId": "52d35ae5-8591-4f1d-df57-00fdcd1260de"
      },
      "execution_count": null,
      "outputs": [
        {
          "output_type": "stream",
          "name": "stdout",
          "text": [
            "['Hello', 'World', 'Alfred R. Wallace']\n"
          ]
        }
      ]
    },
    {
      "cell_type": "markdown",
      "source": [
        "####**TASK P7.3**"
      ],
      "metadata": {
        "id": "SxiMMNLyPwGV"
      }
    },
    {
      "cell_type": "code",
      "source": [
        "# Append an item to the end of the list\n",
        "my_list.append(\"Charles Darwin\")\n",
        "print (my_list)"
      ],
      "metadata": {
        "id": "3VrLc6CGQTi-",
        "colab": {
          "base_uri": "https://localhost:8080/"
        },
        "outputId": "514cb5f8-d389-4002-8724-993c7d48ed0b"
      },
      "execution_count": null,
      "outputs": [
        {
          "output_type": "stream",
          "name": "stdout",
          "text": [
            "['Hello', 'World', 'Alfred R. Wallace', 'Charles Darwin']\n"
          ]
        }
      ]
    },
    {
      "cell_type": "markdown",
      "source": [
        "####**TASK P7.4**. Ask Gemini how to <font color=crimson>```insert```</font> a new item at index 1 in the list"
      ],
      "metadata": {
        "id": "XQKmwgbfQond"
      }
    },
    {
      "cell_type": "code",
      "source": [
        "# On line #2 insert an item at index 1 of my_list\n",
        "my_list.insert(1, \"Isac Newton\")\n",
        "print (my_list)"
      ],
      "metadata": {
        "id": "u0maP5CZZN13",
        "colab": {
          "base_uri": "https://localhost:8080/"
        },
        "outputId": "a05bc011-a56f-45b1-be81-bcc09d823656"
      },
      "execution_count": null,
      "outputs": [
        {
          "output_type": "stream",
          "name": "stdout",
          "text": [
            "['Hello', 'Isac Newton', 'World', 'Alfred R. Wallace', 'Charles Darwin']\n"
          ]
        }
      ]
    },
    {
      "cell_type": "markdown",
      "source": [
        "# **<font color=blue>P8. </font>** Slicing lists and strings"
      ],
      "metadata": {
        "id": "nlBbe3qBRH_J"
      }
    },
    {
      "cell_type": "markdown",
      "source": [
        "####**TASK P8.1** Slice and print only the middle two elements from the list created in P7 (i.e. only <font color=magenta>World</font> and <font color=magenta>Alfred R. Wallace</font>).  "
      ],
      "metadata": {
        "id": "M0YW2MP0WtuI"
      }
    },
    {
      "cell_type": "code",
      "source": [
        "print (my_list[2:4])"
      ],
      "metadata": {
        "colab": {
          "base_uri": "https://localhost:8080/"
        },
        "id": "Tp1djNtiaxSb",
        "outputId": "86b7b18b-3287-4b47-ad8e-df6a0dce8f1d"
      },
      "execution_count": null,
      "outputs": [
        {
          "output_type": "stream",
          "name": "stdout",
          "text": [
            "['World', 'Alfred R. Wallace']\n"
          ]
        }
      ]
    },
    {
      "cell_type": "markdown",
      "source": [
        "####**TASK P8.2**: Print <font color=magenta>Wallace World</font> from **my_string** by slicing\n"
      ],
      "metadata": {
        "id": "_F9KCUzCd3ID"
      }
    },
    {
      "cell_type": "code",
      "source": [
        "my_string=  \"HelloWorldCharlesDarwinAlfred R. Walace\"\n",
        "print (my_string[0:5],my_string[5:10])\n",
        "\n",
        "# in the print command below input the correct index values to complete Task P8.2\n",
        "print (my_string[33:39],my_string[5:10])"
      ],
      "metadata": {
        "colab": {
          "base_uri": "https://localhost:8080/"
        },
        "id": "AafKngtba8En",
        "outputId": "7f4f6066-60a7-44a7-ff65-bb79cf36d08d"
      },
      "execution_count": null,
      "outputs": [
        {
          "output_type": "stream",
          "name": "stdout",
          "text": [
            "Hello World\n",
            "Walace World\n"
          ]
        }
      ]
    },
    {
      "cell_type": "markdown",
      "source": [
        "####**TASK P8.3**  **<font color = orange> Complete Rosalind Problem #2 Strings and Lists</font>**"
      ],
      "metadata": {
        "id": "2TTQVE-Xf8jR"
      }
    },
    {
      "cell_type": "code",
      "source": [
        "# Enter code for Rosalind 2 here:\n",
        "my_string= \"3wFrHLI3NkIFBCPAlpesDCW0f4TSdXb5ceYz6yMP6MqDw1tsOuABCYNyhVYxSoIZn0HFLGAVRMpf03lvp9FKEMnNHg1relictus3ZC6Rqef2W9jMzcyrluP1hgV8vdmGfZLmo08G8YE3Q3N9yiTBm6W81npch8SBa27ncoqAHX\"\n",
        "print (my_string[15:20],my_string[91:99])\n",
        "\n"
      ],
      "metadata": {
        "id": "LI88f5RZh4GL",
        "colab": {
          "base_uri": "https://localhost:8080/"
        },
        "outputId": "6197d0d6-8b0e-48a6-b02d-4970ef437c31"
      },
      "execution_count": null,
      "outputs": [
        {
          "output_type": "stream",
          "name": "stdout",
          "text": [
            "Alpes relictus\n"
          ]
        }
      ]
    },
    {
      "cell_type": "markdown",
      "source": [
        "####**<font color=crimson>TASK 8.4 Commit to GitHub**</font>*italicized text*"
      ],
      "metadata": {
        "id": "Tw6Pwh6TjwJ9"
      }
    },
    {
      "cell_type": "markdown",
      "source": [
        "# **<font color=blue>P9. </font>** ```if``` and ```else``` - conditional output"
      ],
      "metadata": {
        "id": "iHFNxm30lzic"
      }
    },
    {
      "cell_type": "markdown",
      "source": [
        "####**TASK P9.1** Create some code that subtracts two numbers if they are different or adds them if they are the same."
      ],
      "metadata": {
        "id": "WCXnGdftztbN"
      }
    },
    {
      "cell_type": "code",
      "source": [
        "a=5\n",
        "b=5\n",
        "\n",
        "if a!=b:\n",
        "  print(a-b)\n",
        "\n",
        "else:\n",
        "  print(a+b)"
      ],
      "metadata": {
        "id": "KabZsL5Fy8jJ",
        "colab": {
          "base_uri": "https://localhost:8080/"
        },
        "outputId": "798c4bed-c027-46cf-f78a-0169646bf5bf"
      },
      "execution_count": null,
      "outputs": [
        {
          "output_type": "stream",
          "name": "stdout",
          "text": [
            "10\n"
          ]
        }
      ]
    },
    {
      "cell_type": "markdown",
      "source": [
        "# **<font color=blue>P10.</font>** ```while``` loops"
      ],
      "metadata": {
        "id": "sOgq54Op4MZL"
      }
    },
    {
      "cell_type": "markdown",
      "source": [
        "**TASK P10.1** Create a while loop that runs 3 times\n"
      ],
      "metadata": {
        "id": "JMqGqhTn4l9s"
      }
    },
    {
      "cell_type": "code",
      "source": [
        "#initiate a counter\n",
        "a = 1\n",
        "\n",
        "#print \"Counting!\" while a<=3\n",
        "while a <= 3:\n",
        "\n",
        "    print (\"Counting!\" * a)\n",
        "    a += 1"
      ],
      "metadata": {
        "id": "07YbiCGO4O1w",
        "colab": {
          "base_uri": "https://localhost:8080/"
        },
        "outputId": "add909fd-a9a8-45c1-9ce4-382cb65fceab"
      },
      "execution_count": null,
      "outputs": [
        {
          "output_type": "stream",
          "name": "stdout",
          "text": [
            "Counting!\n",
            "Counting!Counting!\n",
            "Counting!Counting!Counting!\n"
          ]
        }
      ]
    },
    {
      "cell_type": "markdown",
      "source": [
        "# **<font color=blue>P11.</font>** ```for``` loops – looping over lists"
      ],
      "metadata": {
        "id": "R5_dYi9f6t1z"
      }
    },
    {
      "cell_type": "markdown",
      "source": [
        "####**TASK P11.1** Create a for loop to print each item in a list\n"
      ],
      "metadata": {
        "id": "x9F7v_V073wO"
      }
    },
    {
      "cell_type": "code",
      "source": [
        "names = [\"Alice\",\"Bob\",\"Charley\"]\n",
        "\n",
        "for name in names:\n",
        "    print (\"Hello\", name)"
      ],
      "metadata": {
        "id": "-aqaQ5hz70yo",
        "colab": {
          "base_uri": "https://localhost:8080/"
        },
        "outputId": "3143a2db-1fc3-4699-9108-affff7e82aef"
      },
      "execution_count": null,
      "outputs": [
        {
          "output_type": "stream",
          "name": "stdout",
          "text": [
            "Hello Alice\n",
            "Hello Bob\n",
            "Hello Charley\n"
          ]
        }
      ]
    },
    {
      "cell_type": "markdown",
      "source": [
        "# **<font color=blue>P12.</font>** ```for``` loops over a ```range()```of numbers"
      ],
      "metadata": {
        "id": "LdtXZ0LW9ugo"
      }
    },
    {
      "cell_type": "markdown",
      "source": [
        "####**TASK 12.1** Using for and range(), create code that prints the numbers 0-9"
      ],
      "metadata": {
        "id": "jG6jvXEBDi4H"
      }
    },
    {
      "cell_type": "code",
      "source": [
        "# Create a variable to define the  number of iterations\n",
        "iterations = 10\n",
        "\n",
        "#Print the current item's value each time through the loop\n",
        "for number in range(iterations):\n",
        "    print (number)"
      ],
      "metadata": {
        "colab": {
          "base_uri": "https://localhost:8080/"
        },
        "id": "RFBXqQNu_E6X",
        "outputId": "a9da95e0-ad84-4187-a55c-6fba95b2e053"
      },
      "execution_count": null,
      "outputs": [
        {
          "output_type": "stream",
          "name": "stdout",
          "text": [
            "0\n",
            "1\n",
            "2\n",
            "3\n",
            "4\n",
            "5\n",
            "6\n",
            "7\n",
            "8\n",
            "9\n"
          ]
        }
      ]
    },
    {
      "cell_type": "markdown",
      "source": [
        "####**TASK 12.2** Modify the code so that it only prints every 3rd number from 9 through 27 (i.e. including 27)"
      ],
      "metadata": {
        "id": "NRd5srR_G-PQ"
      }
    },
    {
      "cell_type": "code",
      "source": [
        "for number in range(9,28,3):\n",
        "    print (number)"
      ],
      "metadata": {
        "id": "irYTFPO-IRHo",
        "colab": {
          "base_uri": "https://localhost:8080/"
        },
        "outputId": "fd577d64-5f14-48d5-8d8f-29edbed1fd35"
      },
      "execution_count": null,
      "outputs": [
        {
          "output_type": "stream",
          "name": "stdout",
          "text": [
            "9\n",
            "12\n",
            "15\n",
            "18\n",
            "21\n",
            "24\n",
            "27\n"
          ]
        }
      ]
    },
    {
      "cell_type": "markdown",
      "source": [
        "####**TASK 12.3** <font color = orange> **Complete Rosalind Problem #3 Conditions and Loops** </font>"
      ],
      "metadata": {
        "id": "83jDEjpMHXUa"
      }
    },
    {
      "cell_type": "code",
      "source": [
        "a = 4120\n",
        "b = 8171\n",
        "\n",
        "odd_sum = 0\n",
        "\n",
        "for number in range(a, b + 1):\n",
        "    if number % 2 == 1:\n",
        "        odd_sum += number\n",
        "\n",
        "print(\"The sum of odd numbers from\", a, \"to\", b, \"is:\", odd_sum)\n"
      ],
      "metadata": {
        "id": "EI7hRtakG90R",
        "colab": {
          "base_uri": "https://localhost:8080/"
        },
        "outputId": "ab42e28a-6079-415c-9fc5-fc2a4f2f8adf"
      },
      "execution_count": null,
      "outputs": [
        {
          "output_type": "stream",
          "name": "stdout",
          "text": [
            "The sum of odd numbers from 4120 to 8171 is: 12451796\n"
          ]
        }
      ]
    },
    {
      "cell_type": "markdown",
      "source": [
        "####**<font color=crimson>TASK 12.4 Commit to GitHub**</font>"
      ],
      "metadata": {
        "id": "3P9DKNbPI1wp"
      }
    },
    {
      "cell_type": "markdown",
      "source": [
        "# **<font color=blue>P13.</font>** File I/O – with open(\"filename\", \"mode\") as filehandle:\n"
      ],
      "metadata": {
        "id": "i4Fo-ddSKWwy"
      }
    },
    {
      "cell_type": "markdown",
      "source": [
        "####**TASK P13.1** Use the ```read()``` function to print the <font color = orange>practice dataset from Rosalind #4</font>\n"
      ],
      "metadata": {
        "id": "sgc3wiQmLXcI"
      }
    },
    {
      "cell_type": "code",
      "source": [
        "with open(\"practice.txt\",\"r\") as data:\n",
        "\n",
        "    print(data.read())\n",
        "    data.seek(0)\n",
        "\n",
        "    print(data.readline())\n",
        "    data.seek(0)\n",
        "\n",
        "    print(data.readlines())"
      ],
      "metadata": {
        "id": "V5nzHsnULA_n",
        "colab": {
          "base_uri": "https://localhost:8080/"
        },
        "outputId": "096c9ca5-6eac-4226-f271-00e019693d98"
      },
      "execution_count": 78,
      "outputs": [
        {
          "output_type": "stream",
          "name": "stdout",
          "text": [
            "Bravely bold Sir Robin rode forth from Camelot\n",
            "Yes, brave Sir Robin turned about\n",
            "He was not afraid to die, O brave Sir Robin\n",
            "And gallantly he chickened out\n",
            "He was not at all afraid to be killed in nasty ways\n",
            "Bravely talking to his feet\n",
            "Brave, brave, brave, brave Sir Robin\n",
            "He beat a very brave retreat\n",
            "Bravely bold Sir Robin rode forth from Camelot\n",
            "\n",
            "['Bravely bold Sir Robin rode forth from Camelot\\n', 'Yes, brave Sir Robin turned about\\n', 'He was not afraid to die, O brave Sir Robin\\n', 'And gallantly he chickened out\\n', 'He was not at all afraid to be killed in nasty ways\\n', 'Bravely talking to his feet\\n', 'Brave, brave, brave, brave Sir Robin\\n', 'He beat a very brave retreat']\n"
          ]
        }
      ]
    },
    {
      "cell_type": "markdown",
      "source": [
        "####**TASK P13.2** Explore file object functions to read and print practice.txt"
      ],
      "metadata": {
        "id": "GLO6tBYNVzYZ"
      }
    },
    {
      "cell_type": "markdown",
      "source": [
        "#<font color=blue>**P14.**</font> Store the content, close the file, and join ( ) the list"
      ],
      "metadata": {
        "id": "iupO8iI-ZYAe"
      }
    },
    {
      "cell_type": "code",
      "source": [
        "with open(\"practice.txt\",\"r\") as data:\n",
        "\n",
        "  list_of_lines=data.readlines()\n",
        "\n",
        "print (list_of_lines)"
      ],
      "metadata": {
        "id": "8U5w2qOudDyp",
        "colab": {
          "base_uri": "https://localhost:8080/"
        },
        "outputId": "358b3387-698d-44f3-931e-3df6383e6e9b"
      },
      "execution_count": 79,
      "outputs": [
        {
          "output_type": "stream",
          "name": "stdout",
          "text": [
            "['Bravely bold Sir Robin rode forth from Camelot\\n', 'Yes, brave Sir Robin turned about\\n', 'He was not afraid to die, O brave Sir Robin\\n', 'And gallantly he chickened out\\n', 'He was not at all afraid to be killed in nasty ways\\n', 'Bravely talking to his feet\\n', 'Brave, brave, brave, brave Sir Robin\\n', 'He beat a very brave retreat']\n"
          ]
        }
      ]
    },
    {
      "cell_type": "markdown",
      "source": [
        "####**TASK P14.1** Read practice.txt into a list of lines. Then, after the file is closed, use the join ( ) function to print the contents so it looks like the original input."
      ],
      "metadata": {
        "id": "5pPhGmQYiiKx"
      }
    },
    {
      "cell_type": "code",
      "source": [
        "print (\"_\".join(list_of_lines))"
      ],
      "metadata": {
        "id": "XLvFZ9uSeyYH",
        "colab": {
          "base_uri": "https://localhost:8080/"
        },
        "outputId": "6a3e01d9-17fc-48cf-d15e-16b35cd60349"
      },
      "execution_count": 80,
      "outputs": [
        {
          "output_type": "stream",
          "name": "stdout",
          "text": [
            "Bravely bold Sir Robin rode forth from Camelot\n",
            "_Yes, brave Sir Robin turned about\n",
            "_He was not afraid to die, O brave Sir Robin\n",
            "_And gallantly he chickened out\n",
            "_He was not at all afraid to be killed in nasty ways\n",
            "_Bravely talking to his feet\n",
            "_Brave, brave, brave, brave Sir Robin\n",
            "_He beat a very brave retreat\n"
          ]
        }
      ]
    },
    {
      "cell_type": "markdown",
      "source": [
        "#<font color=blue>**P15.**</font> Combining for loops with file objects"
      ],
      "metadata": {
        "id": "lY924yM0jckW"
      }
    },
    {
      "cell_type": "markdown",
      "source": [
        "####**TASK P15.1** Use a for loop to print each line in practice.txt"
      ],
      "metadata": {
        "id": "NvqGEl4JjpiO"
      }
    },
    {
      "cell_type": "code",
      "source": [
        "with open(\"practice.txt\",\"r\") as data:\n",
        "\n",
        "  for line in data:\n",
        "    print (line)"
      ],
      "metadata": {
        "id": "snY-10pUkMby",
        "colab": {
          "base_uri": "https://localhost:8080/"
        },
        "outputId": "6b67999d-8363-4afb-debe-1cce032cb1f5"
      },
      "execution_count": 81,
      "outputs": [
        {
          "output_type": "stream",
          "name": "stdout",
          "text": [
            "Bravely bold Sir Robin rode forth from Camelot\n",
            "\n",
            "Yes, brave Sir Robin turned about\n",
            "\n",
            "He was not afraid to die, O brave Sir Robin\n",
            "\n",
            "And gallantly he chickened out\n",
            "\n",
            "He was not at all afraid to be killed in nasty ways\n",
            "\n",
            "Bravely talking to his feet\n",
            "\n",
            "Brave, brave, brave, brave Sir Robin\n",
            "\n",
            "He beat a very brave retreat\n"
          ]
        }
      ]
    },
    {
      "cell_type": "markdown",
      "source": [
        "####**TASK P15.2** <font color=orange>**Complete Rosalind Problem #4 Working with Files**</font>\n"
      ],
      "metadata": {
        "id": "DHzE7CI4lWGw"
      }
    },
    {
      "cell_type": "code",
      "source": [
        "with open(\"rosalind5.txt\", \"r\") as infile:\n",
        "    lines = infile.readlines()\n",
        "\n",
        "# Slice the list to get even-numbered lines (index 1, 3, 5...)\n",
        "even_lines = lines[1::2]\n",
        "\n",
        "# Write them to a new file\n",
        "with open(\"even_lines.txt\", \"w\") as outfile:\n",
        "    outfile.writelines(even_lines)"
      ],
      "metadata": {
        "id": "8QR9dRFtltBN"
      },
      "execution_count": 35,
      "outputs": []
    },
    {
      "cell_type": "markdown",
      "source": [
        "####**<font color=crimson>TASK 15.4 Commit to GitHub**</font>"
      ],
      "metadata": {
        "id": "GJ_acW4WlwDn"
      }
    },
    {
      "cell_type": "markdown",
      "source": [
        "#<font color=blue>**P16.**</font> ```for word in line.split()``` – looping over strings and splitting by any delimiter"
      ],
      "metadata": {
        "id": "WD5wnvQkmh6E"
      }
    },
    {
      "cell_type": "markdown",
      "source": [
        "####**TASK P16.1** Print each word in the ROSALIND Problem #5 Sample Dataset on a separate line.\n"
      ],
      "metadata": {
        "id": "kApNvgOLn8lp"
      }
    },
    {
      "cell_type": "code",
      "source": [
        "with open(\"practice_5.txt\",\"r\") as data:\n",
        "\n",
        "  line=data.read()\n",
        "\n",
        "for word in line.split():\n",
        "    print (word)"
      ],
      "metadata": {
        "colab": {
          "base_uri": "https://localhost:8080/"
        },
        "id": "PBjyhwclpKoM",
        "outputId": "a2a2b916-fefe-4da9-95d2-122db85d81bc"
      },
      "execution_count": 37,
      "outputs": [
        {
          "output_type": "stream",
          "name": "stdout",
          "text": [
            "`Twas\n",
            "brillig,\n",
            "and\n",
            "the\n",
            "slithy\n",
            "toves\n",
            "Some\n",
            "things\n",
            "in\n",
            "life\n",
            "are\n",
            "bad,\n",
            "they\n",
            "can\n",
            "really\n",
            "make\n",
            "you\n",
            "mad\n",
            "Did\n",
            "gyre\n",
            "and\n",
            "gimble\n",
            "in\n",
            "the\n",
            "wabe:\n",
            "Other\n",
            "things\n",
            "just\n",
            "make\n",
            "you\n",
            "swear\n",
            "and\n",
            "curse\n",
            "All\n",
            "mimsy\n",
            "were\n",
            "the\n",
            "borogoves,\n",
            "When\n",
            "you're\n",
            "chewing\n",
            "on\n",
            "life's\n",
            "gristle,\n",
            "don't\n",
            "grumble\n",
            "give\n",
            "a\n",
            "whistle\n",
            "And\n",
            "the\n",
            "mome\n",
            "raths\n",
            "outgrabe.\n",
            "This\n",
            "will\n",
            "help\n",
            "things\n",
            "turn\n",
            "out\n",
            "for\n",
            "the\n",
            "best\n",
            "\"Beware\n",
            "the\n",
            "Jabberwock,\n",
            "my\n",
            "son!\n",
            "Always\n",
            "look\n",
            "on\n",
            "the\n",
            "bright\n",
            "side\n",
            "of\n",
            "life\n",
            "The\n",
            "jaws\n",
            "that\n",
            "bite,\n",
            "the\n",
            "claws\n",
            "that\n",
            "catch!\n",
            "Always\n",
            "look\n",
            "on\n",
            "the\n",
            "right\n",
            "side\n",
            "of\n",
            "life\n",
            "Beware\n",
            "the\n",
            "Jubjub\n",
            "bird,\n",
            "and\n",
            "shun\n",
            "If\n",
            "life\n",
            "seems\n",
            "jolly\n",
            "rotten,\n",
            "there's\n",
            "something\n",
            "you've\n",
            "forgotten\n",
            "The\n",
            "frumious\n",
            "Bandersnatch!\"\n",
            "And\n",
            "that's\n",
            "to\n",
            "laugh\n",
            "and\n",
            "smile\n",
            "and\n",
            "dance\n",
            "and\n",
            "sing\n",
            "He\n",
            "took\n",
            "his\n",
            "vorpal\n",
            "sword\n",
            "in\n",
            "hand:\n",
            "When\n",
            "you're\n",
            "feeling\n",
            "in\n",
            "the\n",
            "dumps,\n",
            "don't\n",
            "be\n",
            "silly,\n",
            "chumps\n",
            "Long\n",
            "time\n",
            "the\n",
            "manxome\n",
            "foe\n",
            "he\n",
            "sought\n",
            "--\n",
            "Just\n",
            "purse\n",
            "your\n",
            "lips\n",
            "and\n",
            "whistle,\n",
            "that's\n",
            "the\n",
            "thing\n",
            "So\n",
            "rested\n",
            "he\n",
            "by\n",
            "the\n",
            "Tumtum\n",
            "tree,\n",
            "So,\n",
            "always\n",
            "look\n",
            "on\n",
            "the\n",
            "bright\n",
            "side\n",
            "of\n",
            "death\n",
            "And\n",
            "stood\n",
            "awhile\n",
            "in\n",
            "thought.\n",
            "Just\n",
            "before\n",
            "you\n",
            "draw\n",
            "your\n",
            "terminal\n",
            "breath\n",
            "And,\n",
            "as\n",
            "in\n",
            "uffish\n",
            "thought\n",
            "he\n",
            "stood,\n",
            "Life's\n",
            "a\n",
            "counterfeit\n",
            "and\n",
            "when\n",
            "you\n",
            "look\n",
            "at\n",
            "it\n",
            "The\n",
            "Jabberwock,\n",
            "with\n",
            "eyes\n",
            "of\n",
            "flame,\n",
            "Life's\n",
            "a\n",
            "laugh\n",
            "and\n",
            "death's\n",
            "the\n",
            "joke,\n",
            "it's\n",
            "true\n",
            "Came\n",
            "whiffling\n",
            "through\n",
            "the\n",
            "tulgey\n",
            "wood,\n",
            "You\n",
            "see,\n",
            "it's\n",
            "all\n",
            "a\n",
            "show,\n",
            "keep\n",
            "them\n",
            "laughing\n",
            "as\n",
            "you\n",
            "go\n",
            "And\n",
            "burbled\n",
            "as\n",
            "it\n",
            "came!\n",
            "Just\n",
            "remember\n",
            "the\n",
            "last\n",
            "laugh\n",
            "is\n",
            "on\n",
            "you\n",
            "One,\n",
            "two!\n",
            "One,\n",
            "two!\n",
            "And\n",
            "through\n",
            "and\n",
            "through\n",
            "Always\n",
            "look\n",
            "on\n",
            "the\n",
            "bright\n",
            "side\n",
            "of\n",
            "life\n",
            "The\n",
            "vorpal\n",
            "blade\n",
            "went\n",
            "snicker-snack!\n",
            "And\n",
            "always\n",
            "look\n",
            "on\n",
            "the\n",
            "right\n",
            "side\n",
            "of\n",
            "life\n",
            "He\n",
            "left\n",
            "it\n",
            "dead,\n",
            "and\n",
            "with\n",
            "its\n",
            "head\n",
            "Always\n",
            "look\n",
            "on\n",
            "the\n",
            "bright\n",
            "side\n",
            "of\n",
            "life\n",
            "He\n",
            "went\n",
            "galumphing\n",
            "back.\n",
            "And\n",
            "always\n",
            "look\n",
            "on\n",
            "the\n",
            "right\n",
            "side\n",
            "of\n",
            "life\n"
          ]
        }
      ]
    },
    {
      "cell_type": "markdown",
      "source": [
        "#<font color=blue>**P17.**</font> Python Dictionaries { }"
      ],
      "metadata": {
        "id": "kq9QbEttnA4h"
      }
    },
    {
      "cell_type": "markdown",
      "source": [
        "####**TASK 17.1** Create and print your first dictionary"
      ],
      "metadata": {
        "id": "lVudFQkZqJgh"
      }
    },
    {
      "cell_type": "code",
      "source": [
        "sequences = {\n",
        "    \"H.neandertalensis\":\"ACGTCGCTCTGCTA\",\n",
        "    \"H.sapiens\":\"ACGTCACTCTGCTA\"\n",
        "    }\n",
        "\n",
        "print (sequences)"
      ],
      "metadata": {
        "colab": {
          "base_uri": "https://localhost:8080/"
        },
        "id": "IzKFWDlgq6zo",
        "outputId": "5c496b02-00a8-43a3-d67f-8fabab165518"
      },
      "execution_count": 38,
      "outputs": [
        {
          "output_type": "stream",
          "name": "stdout",
          "text": [
            "{'H.neandertalensis': 'ACGTCGCTCTGCTA', 'H.sapiens': 'ACGTCACTCTGCTA'}\n"
          ]
        }
      ]
    },
    {
      "cell_type": "markdown",
      "source": [
        "#<font color=blue>**P18.**</font> Manipulating and printing dictionaries"
      ],
      "metadata": {
        "id": "OvqoT6UwnK0g"
      }
    },
    {
      "cell_type": "markdown",
      "source": [
        "####**TASK 18.1** Modify line 8 to create a fasta file of the hominid sequences"
      ],
      "metadata": {
        "id": "5Be2tcQRrjso"
      }
    },
    {
      "cell_type": "code",
      "source": [
        "sequences[\"P.troglodytes\"]=\"ACGTCACTCTCCTA\"\n",
        "\n",
        "sequences.update({\"G.gorilla\":\"ACGTCCTCCTA\", \"H.erectus\":\"ACGTCACTCTGCTA\"})\n",
        "\n",
        "print (sequences[\"H.sapiens\"])\n",
        "\n",
        "for key,value in sequences.items():\n",
        "     print (key,value)"
      ],
      "metadata": {
        "colab": {
          "base_uri": "https://localhost:8080/"
        },
        "id": "b-2XDof4rtP8",
        "outputId": "1574e5f5-bbc0-4fc2-e48a-67d083318638"
      },
      "execution_count": 40,
      "outputs": [
        {
          "output_type": "stream",
          "name": "stdout",
          "text": [
            "ACGTCACTCTGCTA\n",
            "H.neandertalensis ACGTCGCTCTGCTA\n",
            "H.sapiens ACGTCACTCTGCTA\n",
            "P.troglodytes ACGTCACTCTCCTA\n",
            "G.gorilla ACGTCCTCCTA\n",
            "H.erectus ACGTCACTCTGCTA\n"
          ]
        }
      ]
    },
    {
      "cell_type": "markdown",
      "source": [
        "####**TASK P18.2** <font color= orange>**Complete Rosalind Problem #5  Dictionaries**</font>"
      ],
      "metadata": {
        "id": "Y98OZYUNvmWD"
      }
    },
    {
      "cell_type": "code",
      "source": [
        "with open(\"rosalind6.txt\", \"r\") as infile:\n",
        "    s = infile.read().strip()\n",
        "\n",
        "word_count = {}\n",
        "\n",
        "for word in s.split(' '):\n",
        "    if word in word_count:\n",
        "        word_count[word] += 1\n",
        "    else:\n",
        "        word_count[word] = 1\n",
        "\n",
        "for key, value in word_count.items():\n",
        "    print(key)\n",
        "    print(value)"
      ],
      "metadata": {
        "id": "lD3KoTY9wWa7",
        "colab": {
          "base_uri": "https://localhost:8080/"
        },
        "outputId": "349b0ae9-e9be-483c-a1b9-b96a82cd16aa"
      },
      "execution_count": 50,
      "outputs": [
        {
          "output_type": "stream",
          "name": "stdout",
          "text": [
            "When\n",
            "1\n",
            "I\n",
            "2\n",
            "find\n",
            "1\n",
            "myself\n",
            "1\n",
            "in\n",
            "4\n",
            "times\n",
            "1\n",
            "of\n",
            "11\n",
            "trouble\n",
            "1\n",
            "Mother\n",
            "2\n",
            "Mary\n",
            "2\n",
            "comes\n",
            "2\n",
            "to\n",
            "3\n",
            "me\n",
            "4\n",
            "Speaking\n",
            "3\n",
            "words\n",
            "7\n",
            "wisdom\n",
            "7\n",
            "let\n",
            "30\n",
            "it\n",
            "36\n",
            "be\n",
            "41\n",
            "And\n",
            "3\n",
            "my\n",
            "1\n",
            "hour\n",
            "1\n",
            "darkness\n",
            "1\n",
            "she\n",
            "1\n",
            "is\n",
            "4\n",
            "standing\n",
            "1\n",
            "right\n",
            "1\n",
            "front\n",
            "1\n",
            "Let\n",
            "6\n",
            "Whisper\n",
            "4\n",
            "when\n",
            "2\n",
            "the\n",
            "4\n",
            "broken\n",
            "1\n",
            "hearted\n",
            "1\n",
            "people\n",
            "1\n",
            "living\n",
            "1\n",
            "world\n",
            "1\n",
            "agree\n",
            "1\n",
            "There\n",
            "4\n",
            "will\n",
            "5\n",
            "an\n",
            "4\n",
            "answer\n",
            "4\n",
            "For\n",
            "1\n",
            "though\n",
            "1\n",
            "they\n",
            "2\n",
            "may\n",
            "1\n",
            "parted\n",
            "1\n",
            "there\n",
            "2\n",
            "still\n",
            "2\n",
            "a\n",
            "2\n",
            "chance\n",
            "1\n",
            "that\n",
            "2\n",
            "see\n",
            "1\n",
            "night\n",
            "1\n",
            "cloudy\n",
            "1\n",
            "light\n",
            "1\n",
            "shines\n",
            "1\n",
            "on\n",
            "1\n",
            "Shine\n",
            "1\n",
            "until\n",
            "1\n",
            "tomorrow\n",
            "1\n",
            "wake\n",
            "1\n",
            "up\n",
            "1\n",
            "sound\n",
            "1\n",
            "music\n",
            "1\n",
            "yeah\n",
            "2\n"
          ]
        }
      ]
    },
    {
      "cell_type": "markdown",
      "source": [
        "####**<font color=crimson>TASK 18.3 Commit to GitHub**</font>"
      ],
      "metadata": {
        "id": "1dJdfy4bwVO4"
      }
    },
    {
      "cell_type": "markdown",
      "source": [
        "#<font color=blue>**P19.**</font> ```count()``` – counting things made easy"
      ],
      "metadata": {
        "id": "28ygQlYJnZoA"
      }
    },
    {
      "cell_type": "markdown",
      "source": [
        "####**TASK P19.1** <font color= orange>**Complete Rosalind Problem #6  Counting DNA Nucleotides**</font>"
      ],
      "metadata": {
        "id": "CZ9tBWDmw4D-"
      }
    },
    {
      "cell_type": "code",
      "source": [
        "filename = \"dna_rosalind.txt\"\n",
        "\n",
        "with open(filename, \"r\") as infile:\n",
        "    dna = infile.read().strip()\n",
        "\n",
        "# Count nucleotides\n",
        "print(dna.count(\"A\"), dna.count(\"C\"), dna.count(\"G\"), dna.count(\"T\"))"
      ],
      "metadata": {
        "id": "GlwS14zGxBIC",
        "colab": {
          "base_uri": "https://localhost:8080/"
        },
        "outputId": "3fcb1f09-4ec7-4fad-c05c-0ae093975dbc"
      },
      "execution_count": 60,
      "outputs": [
        {
          "output_type": "stream",
          "name": "stdout",
          "text": [
            "224 193 229 215\n"
          ]
        }
      ]
    },
    {
      "cell_type": "markdown",
      "source": [
        "####**TASK P19.2** Modify your code for the Rosalind #5 Dictionary problem so that it uses count( ) to count the words."
      ],
      "metadata": {
        "id": "rj-OWB6Jym5y"
      }
    },
    {
      "cell_type": "code",
      "source": [
        "with open(\"rosalind6.txt\", \"r\") as infile:\n",
        "    s = infile.read().strip()\n",
        "\n",
        "words = s.split(' ')\n",
        "\n",
        "word_count = {}\n",
        "\n",
        "for word in words:\n",
        "    if word not in word_count:\n",
        "        word_count[word] = words.count(word)\n",
        "\n",
        "for key, value in word_count.items():\n",
        "    print(key)\n",
        "    print(value)"
      ],
      "metadata": {
        "id": "9H_S6jLnzfxR",
        "colab": {
          "base_uri": "https://localhost:8080/"
        },
        "outputId": "0131b98d-ebea-4d60-f286-eb98e09587e6"
      },
      "execution_count": 61,
      "outputs": [
        {
          "output_type": "stream",
          "name": "stdout",
          "text": [
            "When\n",
            "1\n",
            "I\n",
            "2\n",
            "find\n",
            "1\n",
            "myself\n",
            "1\n",
            "in\n",
            "4\n",
            "times\n",
            "1\n",
            "of\n",
            "11\n",
            "trouble\n",
            "1\n",
            "Mother\n",
            "2\n",
            "Mary\n",
            "2\n",
            "comes\n",
            "2\n",
            "to\n",
            "3\n",
            "me\n",
            "4\n",
            "Speaking\n",
            "3\n",
            "words\n",
            "7\n",
            "wisdom\n",
            "7\n",
            "let\n",
            "30\n",
            "it\n",
            "36\n",
            "be\n",
            "41\n",
            "And\n",
            "3\n",
            "my\n",
            "1\n",
            "hour\n",
            "1\n",
            "darkness\n",
            "1\n",
            "she\n",
            "1\n",
            "is\n",
            "4\n",
            "standing\n",
            "1\n",
            "right\n",
            "1\n",
            "front\n",
            "1\n",
            "Let\n",
            "6\n",
            "Whisper\n",
            "4\n",
            "when\n",
            "2\n",
            "the\n",
            "4\n",
            "broken\n",
            "1\n",
            "hearted\n",
            "1\n",
            "people\n",
            "1\n",
            "living\n",
            "1\n",
            "world\n",
            "1\n",
            "agree\n",
            "1\n",
            "There\n",
            "4\n",
            "will\n",
            "5\n",
            "an\n",
            "4\n",
            "answer\n",
            "4\n",
            "For\n",
            "1\n",
            "though\n",
            "1\n",
            "they\n",
            "2\n",
            "may\n",
            "1\n",
            "parted\n",
            "1\n",
            "there\n",
            "2\n",
            "still\n",
            "2\n",
            "a\n",
            "2\n",
            "chance\n",
            "1\n",
            "that\n",
            "2\n",
            "see\n",
            "1\n",
            "night\n",
            "1\n",
            "cloudy\n",
            "1\n",
            "light\n",
            "1\n",
            "shines\n",
            "1\n",
            "on\n",
            "1\n",
            "Shine\n",
            "1\n",
            "until\n",
            "1\n",
            "tomorrow\n",
            "1\n",
            "wake\n",
            "1\n",
            "up\n",
            "1\n",
            "sound\n",
            "1\n",
            "music\n",
            "1\n",
            "yeah\n",
            "2\n"
          ]
        }
      ]
    },
    {
      "cell_type": "markdown",
      "source": [
        "####**<font color=crimson>TASK 19.3 Commit to GitHub**</font>\n"
      ],
      "metadata": {
        "id": "RzMon_wAzg7D"
      }
    },
    {
      "cell_type": "markdown",
      "source": [
        "#<font color=blue>**P20.**</font> Installing biopython"
      ],
      "metadata": {
        "id": "-IB0c2gG0Z1O"
      }
    },
    {
      "cell_type": "code",
      "source": [
        "!pip install biopython"
      ],
      "metadata": {
        "colab": {
          "base_uri": "https://localhost:8080/"
        },
        "id": "pinPQdEn0mJM",
        "outputId": "3d7404f1-7efa-402b-c5a6-836690b8a48b"
      },
      "execution_count": 62,
      "outputs": [
        {
          "output_type": "stream",
          "name": "stdout",
          "text": [
            "Collecting biopython\n",
            "  Downloading biopython-1.85-cp312-cp312-manylinux_2_17_x86_64.manylinux2014_x86_64.whl.metadata (13 kB)\n",
            "Requirement already satisfied: numpy in /usr/local/lib/python3.12/dist-packages (from biopython) (2.0.2)\n",
            "Downloading biopython-1.85-cp312-cp312-manylinux_2_17_x86_64.manylinux2014_x86_64.whl (3.3 MB)\n",
            "\u001b[2K   \u001b[90m━━━━━━━━━━━━━━━━━━━━━━━━━━━━━━━━━━━━━━━━\u001b[0m \u001b[32m3.3/3.3 MB\u001b[0m \u001b[31m32.5 MB/s\u001b[0m eta \u001b[36m0:00:00\u001b[0m\n",
            "\u001b[?25hInstalling collected packages: biopython\n",
            "Successfully installed biopython-1.85\n"
          ]
        }
      ]
    },
    {
      "cell_type": "code",
      "metadata": {
        "colab": {
          "base_uri": "https://localhost:8080/"
        },
        "id": "5ccd6f0b",
        "outputId": "ec6e21c2-39fe-4a4f-807c-2c0c48e63225"
      },
      "source": [
        "try:\n",
        "  from Bio.Seq import Seq\n",
        "  print(\"Biopython is installed correctly.\")\n",
        "except ImportError:\n",
        "  print(\"Biopython is not installed or there was an import error.\")"
      ],
      "execution_count": 63,
      "outputs": [
        {
          "output_type": "stream",
          "name": "stdout",
          "text": [
            "Biopython is installed correctly.\n"
          ]
        }
      ]
    },
    {
      "cell_type": "markdown",
      "source": [
        "#<font color=blue>**P21.**</font> Seq( ) – a function to define sequence objects"
      ],
      "metadata": {
        "id": "IGX-ThdQ3RuA"
      }
    },
    {
      "cell_type": "code",
      "source": [
        "from Bio.Seq import Seq\n",
        "\n",
        "my_sequence = Seq(\"GATGGAACTTGACTACGTAAATT\")"
      ],
      "metadata": {
        "id": "ltZBr8mE4OhM"
      },
      "execution_count": 66,
      "outputs": []
    },
    {
      "cell_type": "markdown",
      "source": [
        "####**TASK BP21.2** <font color=orange> **Complete Rosalind #7 Transcribing DNA into RNA**</font>"
      ],
      "metadata": {
        "id": "UXCuEFxg6Jxx"
      }
    },
    {
      "cell_type": "code",
      "source": [
        "with open(\"rosalind_rna.txt\", \"r\") as infile:\n",
        "    dna = infile.read().strip()\n",
        "\n",
        "rna = dna.replace(\"T\", \"U\")\n",
        "\n",
        "print(rna)"
      ],
      "metadata": {
        "id": "UXt6gWLM6qde",
        "colab": {
          "base_uri": "https://localhost:8080/"
        },
        "outputId": "03515b65-1560-4441-b769-3beeb8642d08"
      },
      "execution_count": 67,
      "outputs": [
        {
          "output_type": "stream",
          "name": "stdout",
          "text": [
            "GGUGAGCCAGAUAUACCACUUUAUUAUGUCAACACGCCCGCUGAGCGUUCUACUGCGAGUCAGAAGUAAUAGACCAACGAGCCAAUAUUAGCAUUUUUAUCUUUUGGCACAGAGGCAGAGGACUUGCAUGGGGUUUGUCAAGGUGAAGAAGCUCUAAACUGAAGUAAUCGACAAACGAACUUUGUGUCGUAGGGGUUAAAGCCGCCACGCAUCUAUGAAAGCUCAAAUUCGCCUAGUGUCAUCAGCACCGAGGCCAGAUUAAAAGGAACUUAUAAAUUCGGACACGCUCCGCGUUUACUAGACCAAACCAUCCGCGGACAGACGCGGGCAUUUGCGAAAUAUCAGAGACCGUCACUACUGCCUUGCAUCGGAGCAUCUCGCCGGCGACUUAGCCCGUGCGGAAGCCGGCCCAAGAAAGGGGCUAUAUCUCGUGGCUAUUUGUAGCGUCAGUCGCGGGUCGCCCAGCGCCUGUUGCCAAUCGUGAAGUGCGCAGUAACAGGUUCCCUACUGCGUGCACUGAUUGUAAGUUUCAAUAUGCUUAUGCGUUUAUUCACUUGUCGGUUGACUAUCGCAGGCCGAACCGUGUAAAAGGUACCAAACAUCGCGAGUAUCUAAAUGCUUGUAUUGCAUCGUCGAACUGCCUUCUGAUGUAGGUCCGGCGUUGAAAGCACCUGGAUCGUACGAAACCUCGAGCGGUUGUGGGGUGCCAAACCAGAGCAUCUUAAGAGACUGGCGGGCGUAGACGCCCGCGUUAAGGGAACGCAACCCUUGCCAAAUGACGUAGCAAGAAACCGGUCAGCGAUACGCACUCACUUGGAACACUCACUCUACCUGCAUUUGGAGGCUUCUAUCCUAUCCCGCAGUCUUAGGUAACACUAGCGAGGCAUAAGCAUUGCUGAGCGACUGUAUUG\n"
          ]
        }
      ]
    },
    {
      "cell_type": "markdown",
      "source": [
        "####**TASK BP21.2** <font color=orange> **Complete Rosalind #8  Translating RNA into Protein**</font>"
      ],
      "metadata": {
        "id": "9P4_MaXp6O3n"
      }
    },
    {
      "cell_type": "code",
      "source": [
        "with open(\"rosalind_prot.txt\", \"r\") as infile:\n",
        "    rna_seq = infile.read().strip()\n",
        "\n",
        "rna = Seq(rna_seq)\n",
        "\n",
        "protein = rna.translate(to_stop=True)\n",
        "\n",
        "print(protein)"
      ],
      "metadata": {
        "id": "5Rzzfzij6q2P",
        "colab": {
          "base_uri": "https://localhost:8080/"
        },
        "outputId": "029968ec-cebf-418a-b3c7-b6d0d8f82be8"
      },
      "execution_count": 68,
      "outputs": [
        {
          "output_type": "stream",
          "name": "stdout",
          "text": [
            "MMMCGALPTARMAFIWILARYRTTVPSTPRISTDETWVVCRHGVIGRTIGRGGNISVSEAKVRKHVKKSVQTTSHDRRIPGGIRFAAYSIACIVNRVSPDLRPQAPCRGVKIAAYNVKESKVSNRHRRHSEVIQSYHLRHTSIHQSFFYLGHSYLLLGRFDRLGSDFYKVVRELPITTHHLMAVPLSSSNHLRGTCVERLCVAGCSVDVARFSPDIYIYRTIAYIESLRVLDQRSYTMAPPTVKNNIRPLRGAGVPRDACSGRLGKKTHDVGAPQIRSRCSRVLHKQMSGKHNHDQLAKAIVQNSLVPPVVDCLSKTQQVPHRDCRTPSSVRGSLVVGVYSVPVVNIFCGDRWSKEHCHIQAERQECDPFSDDAHLYRDPRVRQGRLTIAFMGHMSSNSVKGKAKPAGGGGSQYRGVPRFYCVTTSIDNAIGPYILTRHCICRQLYDWVLHFLTCLFFEPCVSTSFEHRRRAPLTMKLVLQAQIGSNPYLCGDLVGREDRHGLTSASGCSGLHRAFFSCHEPYLAKIIAIGEPGCEEMDTTIPLGGGAIRTCESASHLEESNQGLQVQDACRHCCPTQKLVCRFRNIYDCAAIRSFDFIINHTQLIRGFRISRFRHSVDLSSVPEEPAQKLLYICASERTTPDWHAIVYVSLEGLGDRFIAMCNPRQMAFIVSSRQMTLVLGIGEDAHSSSFNHCSPLLMTASLEYAAPLSHTVSTENMASAILSCRTETGLPSQFVTIQIRMRLLYCSSRRRCSSENFLCIRHISVSPTAGWADGITVLSAANWFESHPISRSSAPSWFLSGAAPYDLDTDRGATDGTNLEASGSMSESLTTKTILLHVPWTVNYVRCSSNQWYISSLRNAKTLRLVVPPPQCHCLHSAPLPLTKHRVGVSYLIGHMLHHHKRAIRSRSLSSRVIFVHVKQQLNNSGGCRWLVRGGEACRSNTRNASVCEVMQCLLYVETLARCGICGPTPRGRRQYLTKHGFISETFRQLSAFHSKTRVFKRRTSAIICCGVHYKLMTTSGVDQTTFARTLRFRGQGQVPVTLQLVQTLRFCSVLLDLNESLSGGGTPRCGIHPQVRSVRDLIHQLFVGTLKNAMTYPNPTWSFSSHRPGLLRVNLFLESVWLMTFPPLKKAVSMHHTAVSIILSIRGGGPRAMLKVIRVPGFIPRSKYLLRESTPESTRCTRQKRAEINSSPNYGLYMYVRRRMISIFNVLLLNANYLLRAGFVFLIRRHAPLIGITIGIPTSGPVVFVPRSVACWRKGAAVESEHSYRSTPANPPINGMSPYITADRSQKPLVSASRRRCSDRIPARAQTILETGSRRAAFSGIRGNLSPTPCLQTAPSMITRCPRVQALLSRLINCHSVLEPLASSLFCRSTVPAVSVYVGKHLRIITYIYSPSIDVRIRTSGSTRSEQAYRQSDCKIRIKCMKAVSLGICEFSPLSHCDRVYSVLHRSQLQASLSAYSEWGRSERVLINALSDQETGVAVLLGCYASTRRSMVAPVADLRYLAQDKGLHRPTIKCPARISARVKCVSFLLLSTSLTEIPLFLEKRGPRREVVAYLSRVTLRLYSPHEDQRRYEIIGKLQGGLTYFTPCPYIRVSDESPSHPSTLQETLLNCINIDWRFVDMTFPHMEKEHTVMIYLRSVAKSRPSGLECGSGKSSCGGLRKYAMTLLGHARGGLSGSPTGKILASCIQSGDLQAVAVSRHTVHVERNFKTRITNCRVWQSLSGSRENAIRISENPILLPVPSPHAGFMNRPHEGGYQSLESRRVISLLRRGGFGYYSIRQNTVIAHRKLCNHCDSPANSQGLFLSRNLGVEVNLGFKCPKYWGCTRTLRRRVARPQKLRPVCKATHVLRHLGCQTMEVRIKRYSRGSTMCLIRSRHTNSHNEDYISKPQVRDPNGPIEWSVLLSFNRASFECFSVSYFGIDCNTQERSLTIIPTSKFSKLDQMASRHVGTSTIDGNLNHGGFVFVSALALGEDKASLRYIARHGNGYLLGINVRSDLLDCRPVSWGILFGTVPHFSTGLRQCTRWCPLECPGIRVFECYILHTRDTLGMAAIHLHSMMVRSHYVPLSFAAGCNMACIGCSTTTNFKNMQMLGHLSPSRAAVLIATTNGEHHAGGKLYLTDLDLAASRTPDCVRTLICHSTDELSWYDCHLREHKTKAVGHIRDVWTGVAQHYLLNLLSVIDHLLRSITPLAGPALISHGKYRVQNTVGTPQVDQELLAFRRRIIGSQAVNQHGVGWLVDYHNVPYLIPSCVATNKNFALLSVTWLMSVKWLDKQLPAVTPSLAGWMLSRSLGHTEISPHANLSGPTQLFTEEIAHCWPPHHVAVGRSIFPRASQVPRPATLLCRVSAYPRTGTNFHCPCQYTYRRGSCNRPPEILQQERMRALLRVGSISQHLERCKRPNSSRTDLNSEWLNKSTICKERAFQNSFGGEAPTRILGNQPSLQSRVGGCIYDCSTIPTDLARPVPCQQRHRLSLLHRFAIISRSSERQGRNHKPIHQTRLMEGLGTTNDQNTPYGVVVQCTFSGKTESHFTPQAEMCTRFGCVGHTAKGPRRLSGHSHNLRRSATSSILYVLSRYQSVEVSESPSTKRLFMNMSVNLHGDEGLVPSGIRILTATRLNTDDSGQLSPKATAIYPLLWRGILHRGTSRPRRTVPNVCGNTMEFGFARKVTWIELKVPRRDVITGSRVRCLPTSHRAFSILEEVFRKLLSTMNKVVLRGIEARQASFSGPNRTGHLWHLEAHALRKTIIPFSALGRHEIKILARLSPEYQVQSLRSRCCNGHGSSVPSSTGGWCIDASISQRIDHSDLVRLQDLKGVRIARFPFLSPRKVASNAWRLLFKEGGVIESLYLPDEADPPNLYCIGPRGRHTTTASYRSAPAVTAVDTRETKHRLPFGLSFLEASYRRTDYADRIVRLAPMVYLPRSTTSRGLHGYVVTSGACLSAASTSRRGNKTVGLALNSPRKDPTPKCVLASRRYQCQIVSYVDKRIPQSVSISQNAS\n"
          ]
        }
      ]
    },
    {
      "cell_type": "markdown",
      "source": [
        "####**<font color=crimson>TASK 21.3 Commit to GitHub**</font>\n"
      ],
      "metadata": {
        "id": "dvtR4N7L6sZ_"
      }
    },
    {
      "cell_type": "markdown",
      "source": [
        "#<font color=blue>**P22.**</font> SeqIO – a function to parse( ) sequence files"
      ],
      "metadata": {
        "id": "bDJqtRiX3fEG"
      }
    },
    {
      "cell_type": "markdown",
      "source": [
        "####**TASK BP 22.1** Read in the practice dataset from Rosalind #9 and print the id of each sequence in the file."
      ],
      "metadata": {
        "id": "VKyMhLjx7nIo"
      }
    },
    {
      "cell_type": "code",
      "source": [
        "from Bio.SeqIO import parse\n",
        "\n",
        "for seq_record in parse(\"practice_9.txt\", \"fasta\"):\n",
        "    print (seq_record.id)\n",
        "    print (seq_record.seq)\n",
        "    print (len(seq_record.seq))\n",
        "    print (seq_record)"
      ],
      "metadata": {
        "colab": {
          "base_uri": "https://localhost:8080/"
        },
        "id": "xUi3JEoh7yJ6",
        "outputId": "b35433a4-7be3-4d73-99b3-fcca4105b6b9"
      },
      "execution_count": 70,
      "outputs": [
        {
          "output_type": "stream",
          "name": "stdout",
          "text": [
            "Rosalind_9215\n",
            "ACATTCTATCCGTTCATCTCTCTATATTATAGGGATATGGTCCTACCCATATGACAGCAACGCCGATTGTAGAACAGTGTCAGCATTGCGACGGTGATACCCGCGAGGCTTATTCGAGCGACCCATCGCATGCACGTTGTGCGGGGGTACTGTGGACTTAGGTTTCACGCTAGTGACTAACGAAGCCCACTCGCTAGAATACTTCACACGTTGTAACAGCCGGAAGACGTTCAGGAAGAGTGGGAGTGGACGAATACTGAACTAAAAGCTATCCCCCTCTTCGTACTTGCATCACCAGTGAAGCTGCACCGGTATCTAAGAGTACCTAACAGCCTCCTTTCTCTAAGATCATAGGCATAGCGTTGTTCTGGGAAGCAGGCGGGACCTGGAAATTTTATGCGGGGCAGGCTCTCGGTTCACTCTATCAGTTTGCGACCTATTTGTATTTTGAGGGTTAGGTGTATTCAACTAAATCTTCGCGTAGACAGAATCACTACTTAATCCGCTCACGAGAATACTCGACGCACCGGTTGCACTGGACATTCACGCAGCGTTTATGAACCCTACGACCAAGGCACCTAAGAAACGCGATCACACTGTACCTACGTGAGCCGCCTATGGAACAGGCGAAATAACGAAAACCCTAGCGAAGGTCTTAGCAAGCAATGTACGCCGTGGAGGCGCTCAGGATTTGGAAATGCCGGGGGATGGTTAAGATAGAATACCTCTGGACGTCTCCGGTGCCAGATCATCAGTACCGCCCGCAGGCACGAACCGAGCCTGTCGTCTTCAGATCATCGACTAGACCTATGAACGCCGCGGGCCACTTTGGTATCCCTTTATAAAGCGTAACATGGTG\n",
            "859\n",
            "ID: Rosalind_9215\n",
            "Name: Rosalind_9215\n",
            "Description: Rosalind_9215\n",
            "Number of features: 0\n",
            "Seq('ACATTCTATCCGTTCATCTCTCTATATTATAGGGATATGGTCCTACCCATATGA...GTG')\n",
            "Rosalind_3706\n",
            "CTGTGCGAAGGGATACTGAAATTCTGCGTTTATCACTGTTCAGCTGTGTGTATGATAAATGACGTTCGTTTGGCTCAAATGTGGGACCCTAAATTTGATAGGAGCAAAGACCGGACAATCCGAATCTAACACCCCATTGCCTCGGAATCATACCCGCGGTAACACGCATCCAGGTGTACATGATGTGGAGCCCGATGAACAGGGCTGTCGTCCCTGAGTGAAATGGAGGGTAGGAACCCACTTTAAGCTGCGCAGGGTAAGTCCTAAATACCCATTCCACAAAGATTTGTAATCGTCGTGTGCTCGAACATGGACTATCAGGCGATTTACAGATGCGTCTTACACGGGAACCATATACCGTCACGAACGTTCGCGTATCTTATAGTTTGCAAATTAACGCACCTCGCATCGAAAAAACCCGCACTTCGATTTTGATACTACCCTGAATCGAGGATACTTTCTTGGATAGGTGGTCCATACTCTCAGCGTTCACTCGGGAATTTTTAGCAGAACTGGATTGATGGCACGAATGGAGTGTCGACCAAGTCAACCTATAACTGCGAATAGCAATAGTACTTGATACACCAATGCCCGTCTCGGAGAGGAACTGTCTTCCGAGCACCAGACGCGAAGCAGGGCTACGCGCTGCCTGAGTCTCAGAGCGCGCGAGGAGCATATATAGCTCGGCGTTCGTGGATTCGTGCAGGTTAGCTGGCCCTACTATAAGGTGTATAACGGTCGCTCCCTTATGCTACGCGTTCTACTACAATTTTTCTACCCTCTTAGCATTATTTTCTTCGCGCCAGGACGAACCGACCTTGGGCATATTTACCCATGCCCGAATCAGACGCGATTTTCTTCTCCTCTCCGGCGGACGGCAGTGCCTTAGCGACCGAT\n",
            "897\n",
            "ID: Rosalind_3706\n",
            "Name: Rosalind_3706\n",
            "Description: Rosalind_3706\n",
            "Number of features: 0\n",
            "Seq('CTGTGCGAAGGGATACTGAAATTCTGCGTTTATCACTGTTCAGCTGTGTGTATG...GAT')\n",
            "Rosalind_4626\n",
            "GCACCAGAAGCGGAGCGCAGGCTACCCTGACGTTGGACATCTAAAACCCCGTGTCTTACCTCAGTGTTGCATCAACGCCACTCAGTAGTCAAAGGTCATTTTTTTCTCATCCCCGACCAAGGCTTATGTAGAAGTGGAAAAACGACAATCGCGAGCATCCCCAGCCGTCGTCGGAGGGCGTGACCAGATACACTCTCGGCGACCAGTTTTGAATGGACCAACGCGTGGGCGCGGCTTCCGAACAGCGCAATCCCTCTGACGTTGGACCTGCCCGATTCTTCGGAATTGAACGGCCTTTAGTTACGACGCCTGATCCATTCGGAACCTTTCGTTAGTGCGTAAAATAGTAGGCTTCCGGTGCTGGGGAACAAAAGAATTGGCAGTTACGAGAAGGCGGAAGGTTAGAGAAGGGTGGGGTGAATGGAAATGGACTGTTTTGCCTCATACGTGCATCTTACGGTCTGTCTGAGCAGACCAAATAACGGTTTTGAGAGGCGTATCGATCATGGGCAGATCCGCGAGCCTACGTGCGGTCTTGCTACGGCACCAAATAGAATAACCATTGCTTTAGTTTTGGCGCAATGTACGAGATGTTCTATATGTGTAATACTTGTATCGTGACCTAATGGGAGGGCGTAGAGAGGCCCTTACTTTCCCCCGTCTGCCCTAACCGCAGCATTGTACCATGTAGCTCAGCAATTCTAGATCAGCGATTAGGGAGAATCTTGCTCTGCCGTCACAACCGAATCCACCTTTTTAACGAGTCAGTCTGGCGTCGGTGGTATGGCTCGTGGTGCTTCGCTATGGGCCCCGGGGCTAGTCGGGGTAGTAGTCAGCCGTATCTGCCGGAACTTA\n",
            "855\n",
            "ID: Rosalind_4626\n",
            "Name: Rosalind_4626\n",
            "Description: Rosalind_4626\n",
            "Number of features: 0\n",
            "Seq('GCACCAGAAGCGGAGCGCAGGCTACCCTGACGTTGGACATCTAAAACCCCGTGT...TTA')\n",
            "Rosalind_0803\n",
            "GTCCCGATTAACGCTGCTGGGCCAAGTCTAGTAGGAGCCGCCCTCAGGATTCTGTGTTGTTCGATCTGTGTAACTATTCGCCTATTGAAGCGAGTCTGAGAACGACAATGTTACCTTTCTATATCTAAAGTTTTATTAATTCCGGACGGTATCATGAGATAAGAACCTGTACCAATGCAGGGTAGCCCCAGAGGTCGTCGCTGAGGACAGCCGTCAGGATAGATAAGTGCAGTTCTAAGTTTGCTTGGTATAGCAAATGAACGTATCCGTGTGGGCTCCAACTGAACATTGCCCATGCATTTAGCCATGAGACCATACGATCAAGTAAGGGTGGCTGCAATCCTATAATGAGTCGCCCGTAAAGCCGTTGTCGAGCTATAGGTAGACGTCTGGTTAGTCACACTCAGGGTCGCTACAACGACATTGCGAGTGGTTGAAAATTCACTACCTCTTTGATTAGTGGCTAGCATACGACCGCTAAGTCTCCTGTATGCGGTAAATTCGGCCCCATGATGACTACTTCAGGCTAAATTAAGTTATGCGAATTTGCATACGCGATACCCTATCGCTACCTAACTCCACAAGATAGGACTGAATGTCATCATACCATGGCAGACCATCTAAACGCAAACAGCGTCGATGGCGCTCAGGAGACCCCCTGCAAGCTAGGAAGAAGGATGCAGCGAATATTGCCGGCGAGAACAGCTACCAAGGGAGTAACCTGGGACGATAGCCTCCCGCTCAATGTCCAGGGCTGGGCACGTGAAAGCCCAGTTCATCTATTCAGCCGAGGGAGTCTGAACGATGCCCTGGGCAGGGGGCCGGAGGGTCCCGAAACACACCTACTACTTAGACCGAATAGGCCGTTCTGTGGAGCCATCGCACTACGTATTGACCCATCTCTCACATGAGAAGTGGTTTAGTTGGCAGGCAAATCTAAAGCTATAATATTTAACCACCGCCCGGGACCGTTAAGGACTTATCGCTTCAGAAGG\n",
            "995\n",
            "ID: Rosalind_0803\n",
            "Name: Rosalind_0803\n",
            "Description: Rosalind_0803\n",
            "Number of features: 0\n",
            "Seq('GTCCCGATTAACGCTGCTGGGCCAAGTCTAGTAGGAGCCGCCCTCAGGATTCTG...AGG')\n",
            "Rosalind_1348\n",
            "TGAATGCCGAAGTTCAAAGACTTTACTACAAAGGTAGCACAATGCGGGACCACGTCTACAACGGCTCCTGAAGAGTGCTTCCACCTCATCCTGCTATGGCGCTGTTTCAGCTGCGGTCACAGCCCCGCATCCCGAGGCAGCCGTATGTAAGCTGCGGCACTGTTGGCTAGGTTGGGCGCCCGGCCCATTTACGGCGTTCAGGCACCCTCAAACTGAATTGAACCCCGAGTCATCCCCCCACCACAATACACACCGCTTCGGAATAAGGTGCCCACCCGCCTCTAACTACCCCAGATTCTCAGTCGACCGAGGGGTCTAGTCGAATTAGATTGAAGTGGATGCACCATTCGAAAAATACTCGCCCGGGGCGGTGATTCTTTCCACGAGATGGCAGCCTATTGGGTCGAACTTAGGAGAGATTCCCGCTCCTAGCCTACAACGGCTAGGTCATTTTGGAGGGTCGTGCTATCCCCGACCAAGGAACGCGGTAAGATGAACTCAAAACTCTGTGTCACACATTAATTTACCTCCCAACTGAACGCCTCCCCGTAGTTTGGCCGAAAAGCATGCTCGCAGCTCGCCTGTACCGCTCCAGTCCACTGGTTTAGATGTATATTAGCCTGCGAGTTGCGGATGATACGATACTAACACGGCGATCACAGGCATGTAGTGAAGCGTATTCCCATAACAAAGGGACCTTGCCAGTGGATGCATCCTGTCGGAACCATTGTCACCACCGTGTGTCGACAGCACATGGCTAGTTCAGTTCCCAGCAGACTCGTCAATCTCTCATACACAGTAGACGCGTGGGCCGCTACATTTAAAAGGTGGAGGTTCGAAGTCCCACCGGTGCTGTCCGGTTACGCCGTAGGGCTCGTCCTCCAACAAC\n",
            "889\n",
            "ID: Rosalind_1348\n",
            "Name: Rosalind_1348\n",
            "Description: Rosalind_1348\n",
            "Number of features: 0\n",
            "Seq('TGAATGCCGAAGTTCAAAGACTTTACTACAAAGGTAGCACAATGCGGGACCACG...AAC')\n",
            "Rosalind_6849\n",
            "AAATAAGAGTGCCCGATCATGTTAAATATAGTTCCTTATGCGGGTTCCACTTCAGGCGAGGGCAGCAGTGTGCAGCCGTAGCACTAGACAGTCTATTGGCCTCGCCCTTTCTGTTCATAATCGTTATTATTCTTAGACACCTATTAGGACTCATTGTCGCCAGCGGTTCGTCAATAGATACTAGTTCCCTTGTCATAAAAGCCTTCCAGCACCCGTCTAGATATTCTCAGAGCCAGAGATGTCTTTCATAATCTTCTCTCTCTCGGGCTTGCCTAATTACCCCCTTGCTCTTTGTTGGGCCTAATAAGGTGGAGTCCTCGTGATTCACCCGAGGCTTAGCGTTGGAAAGCTTGCAGAAATTGCTGCCAAGGCTCCCTATTAGGACCGTGTATGAATGGATATTTTACGACTGCTCTTAAGGGAAGAGACCCGCTACTGCGAGATGCCGCTGGAACCTTTAATTGCGAGCGTAAAGTTGCCTGACGACCTATTACACGACGACTCGTTGGACATTTTAATTGGCTGAGTGTTGACATGCCTTTTCCTCCGCTTTCTCCGCAGTAGCTGACAGATTTGTCAGGCTGAGTTAATAACAAGATTTGTTTCTCCTCGCTACTTAAGCACAGTTTGTTGCTACCCGTGCATCAACGGCTTCAAGTGCCAAGTCCTCCGCGCCCTTTTTCTTCATCCGCAGCTGACTGCGGCCGGCCCCGACGCCCCGTGGTCGTTTGGAAGGATGAATCGTTAGCCACCCTCTACACACGTACCTTAAGAGTTTCCCCCAGCAGCGGTTTTGCTTC\n",
            "800\n",
            "ID: Rosalind_6849\n",
            "Name: Rosalind_6849\n",
            "Description: Rosalind_6849\n",
            "Number of features: 0\n",
            "Seq('AAATAAGAGTGCCCGATCATGTTAAATATAGTTCCTTATGCGGGTTCCACTTCA...TTC')\n",
            "Rosalind_6836\n",
            "CAATAGCGCCTTTACATTTCTGCACTTGTTATCGCGCGTTTGCACGTCCCGTCCTTTCTCTGATCAGAAACCAATGCAATAGACTATCGTAGTATCCCAAAATATATACTTCAAATTGACCACTACGCTTACCGCGCGAAGTCTCAAGAAGGCTAAATGGTCACGTTGATTCATGCTGGGAAAGTATCTGAACAAGACGCGTGAGGGTCCCTGGGAGTGCCCCATTCATATTCTTGAAGCCCATGGAGGGATATAGAACTCTCGGCGTCGACATCACGCCCCGGATTAATTACCGCTTGATGAAGCTCGGGATTCTTGGGACCAGGCTGAACAGGACACGGCACACCTATGCTAATTCATCTGTGAGTTTTTTATAGGGATATCGTAGAGAAGTCCCCTGTGTATATGTACCATTCGAAATCCTTATCAACCACTGCACAGCGAGACCCACCGGCTGCACGGAAAATTTCCTCCCGGTGCACAGAAAGGAATGCGTATTTAGGATATTATCCACGTCAGACACAGACACGAGTGAATGTCAGTTTCAGAGCTGACACAGGTCACTGGTCTGCTTTAGGACAGCACATAATTACACCTAGGCAGGGGCAGTCTCGGATTCGCACGGGACTTAAGGAGCCACCCAAGTACTCACGACCGGGTAATGCTGAGGGTCTCGCTCTGGAGTGCGGCTTGTGCCCTCGCGCAGAACTCATACGCTACACTCTCAGCCTGGCCCCACACTTCGCACTTTCTAAGCGTGAAAAGGCGACTACTATCGGTACTGTCAAATAAGCCCTACATCCCAGCAGTGACTGAGCTAGTGGATCCACTCTAAAAGATCTGCAATGGTACTACCAAACAAACAATGCCGCCCTGTAGTGGCGAGCTGTACGGAAGAATCCTTACCAAGATATCTAGATTACATAAAAACGTTAGTGAGGTTTTTCTGGACATCACTCGTTAATGTTCTATTTACACAACGTCCG\n",
            "986\n",
            "ID: Rosalind_6836\n",
            "Name: Rosalind_6836\n",
            "Description: Rosalind_6836\n",
            "Number of features: 0\n",
            "Seq('CAATAGCGCCTTTACATTTCTGCACTTGTTATCGCGCGTTTGCACGTCCCGTCC...CCG')\n"
          ]
        }
      ]
    },
    {
      "cell_type": "code",
      "source": [
        "from Bio.SeqIO import parse\n",
        "\n",
        "filename = \"practice_9.txt\"\n",
        "\n",
        "for seq_record in parse(filename, \"fasta\"):\n",
        "    print(seq_record.id)"
      ],
      "metadata": {
        "colab": {
          "base_uri": "https://localhost:8080/"
        },
        "id": "gKs1eMb4kUaV",
        "outputId": "2ad86b5f-c9fb-464a-fca6-a4dac50524c4"
      },
      "execution_count": 71,
      "outputs": [
        {
          "output_type": "stream",
          "name": "stdout",
          "text": [
            "Rosalind_9215\n",
            "Rosalind_3706\n",
            "Rosalind_4626\n",
            "Rosalind_0803\n",
            "Rosalind_1348\n",
            "Rosalind_6849\n",
            "Rosalind_6836\n"
          ]
        }
      ]
    },
    {
      "cell_type": "markdown",
      "source": [
        "#<font color=blue>**P23.**</font> SeqUtils.GC( ) – a function to compute GC content"
      ],
      "metadata": {
        "id": "SAjUYBpe3pwi"
      }
    },
    {
      "cell_type": "code",
      "metadata": {
        "colab": {
          "base_uri": "https://localhost:8080/"
        },
        "id": "43ea9ab7",
        "outputId": "a578b745-c190-483f-a5a8-17324e2bee8a"
      },
      "source": [
        "# Example 1: Assigning an integer to a variable\n",
        "a = 10\n",
        "print(a)"
      ],
      "execution_count": 72,
      "outputs": [
        {
          "output_type": "stream",
          "name": "stdout",
          "text": [
            "10\n"
          ]
        }
      ]
    },
    {
      "cell_type": "code",
      "metadata": {
        "colab": {
          "base_uri": "https://localhost:8080/"
        },
        "id": "733d49ff",
        "outputId": "a1946426-4ab9-441e-aad0-e8580c1fe5ee"
      },
      "source": [
        "# Example 2: Assigning a string to a variable\n",
        "greeting = \"Hello\"\n",
        "print(greeting)"
      ],
      "execution_count": 73,
      "outputs": [
        {
          "output_type": "stream",
          "name": "stdout",
          "text": [
            "Hello\n"
          ]
        }
      ]
    },
    {
      "cell_type": "code",
      "metadata": {
        "colab": {
          "base_uri": "https://localhost:8080/"
        },
        "id": "dcb8abd3",
        "outputId": "5fcc0a41-7b5e-4320-f3c4-72c0e7100848"
      },
      "source": [
        "# Example 3: Assigning the result of an expression to a variable\n",
        "result = 5 + 3\n",
        "print(result)"
      ],
      "execution_count": 74,
      "outputs": [
        {
          "output_type": "stream",
          "name": "stdout",
          "text": [
            "8\n"
          ]
        }
      ]
    },
    {
      "cell_type": "code",
      "source": [
        "from Bio.SeqIO import parse\n",
        "from Bio.SeqUtils import gc_fraction   # modern replacement for GC()\n",
        "\n",
        "filename = \"practice_9.txt\"  # make sure this file is uploaded\n",
        "\n",
        "for record in parse(filename, \"fasta\"):\n",
        "    seq = str(record.seq)\n",
        "    gc_content = gc_fraction(seq) * 100\n",
        "    print(record.id, round(gc_content, 6))"
      ],
      "metadata": {
        "colab": {
          "base_uri": "https://localhost:8080/"
        },
        "id": "Pt80CRzgltRG",
        "outputId": "a5f7047e-c29a-4b95-9309-ae11c595bcbc"
      },
      "execution_count": 75,
      "outputs": [
        {
          "output_type": "stream",
          "name": "stdout",
          "text": [
            "Rosalind_9215 50.291036\n",
            "Rosalind_3706 49.275362\n",
            "Rosalind_4626 52.163743\n",
            "Rosalind_0803 49.547739\n",
            "Rosalind_1348 53.993251\n",
            "Rosalind_6849 49.125\n",
            "Rosalind_6836 48.377282\n"
          ]
        }
      ]
    },
    {
      "cell_type": "code",
      "source": [
        "from Bio.SeqIO import parse\n",
        "from Bio.SeqUtils import gc_fraction\n",
        "\n",
        "filename = \"rosalind_gc.txt\"\n",
        "\n",
        "max_gc_id = None\n",
        "max_gc_content = 0.0\n",
        "\n",
        "for record in parse(filename, \"fasta\"):\n",
        "    seq = str(record.seq)\n",
        "    gc_content = gc_fraction(seq) * 100\n",
        "\n",
        "\n",
        "    if gc_content > max_gc_content:\n",
        "        max_gc_content = gc_content\n",
        "        max_gc_id = record.id\n",
        "\n",
        "print(max_gc_id)\n",
        "print(round(max_gc_content, 6))"
      ],
      "metadata": {
        "colab": {
          "base_uri": "https://localhost:8080/"
        },
        "id": "5Q-uk7XNl4pI",
        "outputId": "08a0d8fa-9a3e-4c6d-f794-66928786399a"
      },
      "execution_count": 77,
      "outputs": [
        {
          "output_type": "stream",
          "name": "stdout",
          "text": [
            "Rosalind_3442\n",
            "52.173913\n"
          ]
        }
      ]
    }
  ]
}